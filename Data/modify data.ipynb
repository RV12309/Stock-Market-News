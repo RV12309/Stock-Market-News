{
 "cells": [
  {
   "cell_type": "code",
   "execution_count": 26,
   "metadata": {},
   "outputs": [],
   "source": [
    "import pandas as pd\n",
    "import re\n",
    "import os"
   ]
  },
  {
   "cell_type": "code",
   "execution_count": 34,
   "metadata": {},
   "outputs": [
    {
     "name": "stdout",
     "output_type": "stream",
     "text": [
      "C:\\Users\\ducviet00\n"
     ]
    }
   ],
   "source": [
    "cd"
   ]
  },
  {
   "cell_type": "code",
   "execution_count": 35,
   "metadata": {},
   "outputs": [
    {
     "name": "stdout",
     "output_type": "stream",
     "text": [
      "C:\\Users\\ducviet00\\OneDrive - Hanoi University of Science and Technology\\Documents\\GitHub\\Stock-Market-News\\Data\n"
     ]
    }
   ],
   "source": [
    "cd \"C:\\Users\\ducviet00\\OneDrive - Hanoi University of Science and Technology\\Documents\\GitHub\\Stock-Market-News\\Data\""
   ]
  },
  {
   "cell_type": "code",
   "execution_count": 74,
   "metadata": {
    "scrolled": false
   },
   "outputs": [],
   "source": [
    "fnames = list()\n",
    "for file in os.listdir(\"./Processed\"):\n",
    "    if file.endswith(\".csv\"):\n",
    "        fnames.append(file)"
   ]
  },
  {
   "cell_type": "code",
   "execution_count": 75,
   "metadata": {},
   "outputs": [
    {
     "data": {
      "text/plain": [
       "['BID.csv',\n",
       " 'BVH.csv',\n",
       " 'CTD.csv',\n",
       " 'CTG.csv',\n",
       " 'EIB.csv',\n",
       " 'FPT.csv',\n",
       " 'GAS.csv',\n",
       " 'HDB.csv',\n",
       " 'HPG.csv',\n",
       " 'MBB.csv',\n",
       " 'MSN.csv',\n",
       " 'MWG.csv',\n",
       " 'NVL.csv',\n",
       " 'PLX.csv',\n",
       " 'PNJ.csv',\n",
       " 'POW.csv',\n",
       " 'REE.csv',\n",
       " 'ROS.csv',\n",
       " 'SAB.csv',\n",
       " 'SBT.csv',\n",
       " 'SSI.csv',\n",
       " 'STB.csv',\n",
       " 'TCB.csv',\n",
       " 'VCB.csv',\n",
       " 'VHM.csv',\n",
       " 'VIC.csv',\n",
       " 'VJC.csv',\n",
       " 'VNI.csv',\n",
       " 'VNM.csv',\n",
       " 'VPB.csv',\n",
       " 'VRE.csv']"
      ]
     },
     "execution_count": 75,
     "metadata": {},
     "output_type": "execute_result"
    }
   ],
   "source": [
    "fnames"
   ]
  },
  {
   "cell_type": "code",
   "execution_count": 73,
   "metadata": {},
   "outputs": [
    {
     "name": "stdout",
     "output_type": "stream",
     "text": [
      "BID Historical Data.csv processing\n",
      "BID ok\n",
      "BVH Historical Data.csv processing\n",
      "BVH ok\n",
      "CTD Historical Data.csv processing\n",
      "CTD ok\n",
      "CTG Historical Data.csv processing\n",
      "CTG ok\n",
      "EIB Historical Data.csv processing\n",
      "EIB ok\n",
      "FPT Historical Data.csv processing\n",
      "FPT ok\n",
      "GAS Historical Data.csv processing\n"
     ]
    },
    {
     "name": "stderr",
     "output_type": "stream",
     "text": [
      "C:\\Users\\ducviet00\\anaconda3\\lib\\site-packages\\ipykernel_launcher.py:13: SettingWithCopyWarning: \n",
      "A value is trying to be set on a copy of a slice from a DataFrame\n",
      "\n",
      "See the caveats in the documentation: https://pandas.pydata.org/pandas-docs/stable/user_guide/indexing.html#returning-a-view-versus-a-copy\n",
      "  del sys.path[0]\n"
     ]
    },
    {
     "name": "stdout",
     "output_type": "stream",
     "text": [
      "GAS ok\n",
      "HDB Historical Data.csv processing\n",
      "HDB ok\n",
      "HPG Historical Data.csv processing\n",
      "HPG ok\n",
      "MBB Historical Data.csv processing\n",
      "MBB ok\n",
      "MSN Historical Data.csv processing\n",
      "MSN ok\n",
      "MWG Historical Data.csv processing\n",
      "MWG ok\n",
      "NVL Historical Data.csv processing\n",
      "NVL ok\n",
      "PLX Historical Data.csv processing\n",
      "PLX ok\n",
      "PNJ Historical Data.csv processing\n",
      "PNJ ok\n",
      "POW Historical Data.csv processing\n",
      "POW ok\n",
      "REE Historical Data.csv processing\n",
      "REE ok\n",
      "ROS Historical Data.csv processing\n",
      "ROS ok\n",
      "SAB Historical Data.csv processing\n",
      "SAB ok\n",
      "SBT Historical Data.csv processing\n",
      "SBT ok\n",
      "SSI Historical Data.csv processing\n",
      "SSI ok\n",
      "STB Historical Data.csv processing\n",
      "STB ok\n",
      "TCB Historical Data.csv processing\n",
      "TCB ok\n",
      "VCB Historical Data.csv processing\n",
      "VCB ok\n",
      "VHM Historical Data.csv processing\n",
      "VHM ok\n",
      "VIC Historical Data.csv processing\n",
      "VIC ok\n",
      "VJC Historical Data.csv processing\n",
      "VJC ok\n",
      "VN Historical Data.csv processing\n",
      "VN  ok\n",
      "VNM Historical Data.csv processing\n",
      "VNM ok\n",
      "VPB Historical Data.csv processing\n",
      "VPB ok\n",
      "VRE Historical Data.csv processing\n",
      "VRE ok\n"
     ]
    }
   ],
   "source": [
    "for fname in fnames:\n",
    "    preprocess(fname)"
   ]
  },
  {
   "cell_type": "code",
   "execution_count": 61,
   "metadata": {},
   "outputs": [],
   "source": [
    "def preprocess(fname): \n",
    "    print(fname + \" processing\")\n",
    "    df = pd.read_csv(\"./Raw Data/\" + fname, thousands=',')\n",
    "    df = df.rename(columns = {\"Date\": \"tradeDate\", \"Open\" : \"OpenPrice\"})\n",
    "    for i in range(len(df[\"Vol.\"])):\n",
    "        d = df[\"Vol.\"][i]\n",
    "        if d[-1:] == 'K':\n",
    "            d = float(d[:-1])\n",
    "            d *= 1000\n",
    "        elif d[-1] == 'M':\n",
    "            d = float(d[:-1])\n",
    "            d *= 1000000\n",
    "        df[\"Vol.\"][i] = d\n",
    "    for i in df[\"Vol.\"]:\n",
    "        if type(i) != float:\n",
    "            print(i)\n",
    "    df[\"Change %\"] = df[\"Change %\"].str.replace(r'%', '')\n",
    "    df.to_csv(\"./Processed/\" + fname[:3] + \".csv\", sep=';', index=False)\n",
    "    print(fname[:3] + \" ok\")"
   ]
  },
  {
   "cell_type": "code",
   "execution_count": 68,
   "metadata": {},
   "outputs": [],
   "source": [
    "fname = fnames[2]"
   ]
  },
  {
   "cell_type": "code",
   "execution_count": 69,
   "metadata": {},
   "outputs": [],
   "source": [
    "df = pd.read_csv(\"./Raw Data/\" + fname, thousands=',')"
   ]
  },
  {
   "cell_type": "code",
   "execution_count": 70,
   "metadata": {},
   "outputs": [
    {
     "data": {
      "text/html": [
       "<div>\n",
       "<style scoped>\n",
       "    .dataframe tbody tr th:only-of-type {\n",
       "        vertical-align: middle;\n",
       "    }\n",
       "\n",
       "    .dataframe tbody tr th {\n",
       "        vertical-align: top;\n",
       "    }\n",
       "\n",
       "    .dataframe thead th {\n",
       "        text-align: right;\n",
       "    }\n",
       "</style>\n",
       "<table border=\"1\" class=\"dataframe\">\n",
       "  <thead>\n",
       "    <tr style=\"text-align: right;\">\n",
       "      <th></th>\n",
       "      <th>Date</th>\n",
       "      <th>Price</th>\n",
       "      <th>Open</th>\n",
       "      <th>High</th>\n",
       "      <th>Low</th>\n",
       "      <th>Vol.</th>\n",
       "      <th>Change %</th>\n",
       "    </tr>\n",
       "  </thead>\n",
       "  <tbody>\n",
       "    <tr>\n",
       "      <th>0</th>\n",
       "      <td>Jun 11, 2020</td>\n",
       "      <td>67000.0</td>\n",
       "      <td>69000.0</td>\n",
       "      <td>73000.0</td>\n",
       "      <td>67000.0</td>\n",
       "      <td>596.48K</td>\n",
       "      <td>-3.46%</td>\n",
       "    </tr>\n",
       "    <tr>\n",
       "      <th>1</th>\n",
       "      <td>Jun 10, 2020</td>\n",
       "      <td>69400.0</td>\n",
       "      <td>69000.0</td>\n",
       "      <td>69900.0</td>\n",
       "      <td>67500.0</td>\n",
       "      <td>418.98K</td>\n",
       "      <td>-1.56%</td>\n",
       "    </tr>\n",
       "    <tr>\n",
       "      <th>2</th>\n",
       "      <td>Jun 09, 2020</td>\n",
       "      <td>70500.0</td>\n",
       "      <td>71500.0</td>\n",
       "      <td>71700.0</td>\n",
       "      <td>70300.0</td>\n",
       "      <td>453.56K</td>\n",
       "      <td>-1.95%</td>\n",
       "    </tr>\n",
       "    <tr>\n",
       "      <th>3</th>\n",
       "      <td>Jun 08, 2020</td>\n",
       "      <td>71900.0</td>\n",
       "      <td>72000.0</td>\n",
       "      <td>72800.0</td>\n",
       "      <td>71000.0</td>\n",
       "      <td>630.86K</td>\n",
       "      <td>-1.78%</td>\n",
       "    </tr>\n",
       "    <tr>\n",
       "      <th>4</th>\n",
       "      <td>Jun 05, 2020</td>\n",
       "      <td>73200.0</td>\n",
       "      <td>72000.0</td>\n",
       "      <td>75000.0</td>\n",
       "      <td>72000.0</td>\n",
       "      <td>323.22K</td>\n",
       "      <td>1.67%</td>\n",
       "    </tr>\n",
       "  </tbody>\n",
       "</table>\n",
       "</div>"
      ],
      "text/plain": [
       "           Date    Price     Open     High      Low     Vol. Change %\n",
       "0  Jun 11, 2020  67000.0  69000.0  73000.0  67000.0  596.48K   -3.46%\n",
       "1  Jun 10, 2020  69400.0  69000.0  69900.0  67500.0  418.98K   -1.56%\n",
       "2  Jun 09, 2020  70500.0  71500.0  71700.0  70300.0  453.56K   -1.95%\n",
       "3  Jun 08, 2020  71900.0  72000.0  72800.0  71000.0  630.86K   -1.78%\n",
       "4  Jun 05, 2020  73200.0  72000.0  75000.0  72000.0  323.22K    1.67%"
      ]
     },
     "execution_count": 70,
     "metadata": {},
     "output_type": "execute_result"
    }
   ],
   "source": [
    "df.head(5)"
   ]
  },
  {
   "cell_type": "code",
   "execution_count": 72,
   "metadata": {},
   "outputs": [],
   "source": [
    "df.to_csv(\"./Processed/\" + fname[:3] + \".csv\", sep=';', index=False)"
   ]
  },
  {
   "cell_type": "code",
   "execution_count": 58,
   "metadata": {},
   "outputs": [],
   "source": [
    "df = df.rename(columns = {\"Date\": \"tradeDate\", \"Open\" : \"OpenPrice\"})"
   ]
  },
  {
   "cell_type": "code",
   "execution_count": 59,
   "metadata": {},
   "outputs": [],
   "source": [
    "df[\"Vol.\"] = df[\"Vol.\"].str.replace(r'-', '-1')"
   ]
  },
  {
   "cell_type": "code",
   "execution_count": 60,
   "metadata": {},
   "outputs": [
    {
     "name": "stderr",
     "output_type": "stream",
     "text": [
      "C:\\Users\\ducviet00\\anaconda3\\lib\\site-packages\\ipykernel_launcher.py:9: SettingWithCopyWarning: \n",
      "A value is trying to be set on a copy of a slice from a DataFrame\n",
      "\n",
      "See the caveats in the documentation: https://pandas.pydata.org/pandas-docs/stable/user_guide/indexing.html#returning-a-view-versus-a-copy\n",
      "  if __name__ == '__main__':\n"
     ]
    }
   ],
   "source": [
    "for i in range(len(df[\"Vol.\"])):\n",
    "    d = df[\"Vol.\"][i]\n",
    "    if d[-1:] == 'K':\n",
    "        d = float(d[:-1])\n",
    "        d *= 1000\n",
    "    elif d[-1] == 'M':\n",
    "        d = float(d[:-1])\n",
    "        d *= 1000000\n",
    "    df[\"Vol.\"][i] = d"
   ]
  },
  {
   "cell_type": "code",
   "execution_count": 61,
   "metadata": {},
   "outputs": [],
   "source": [
    "for i in df[\"Vol.\"]:\n",
    "    if type(i) != float:\n",
    "        print(i)"
   ]
  },
  {
   "cell_type": "code",
   "execution_count": 63,
   "metadata": {},
   "outputs": [],
   "source": [
    "df[\"Change %\"] = df[\"Change %\"].str.replace(r'%', '')"
   ]
  },
  {
   "cell_type": "code",
   "execution_count": 64,
   "metadata": {},
   "outputs": [
    {
     "data": {
      "text/plain": [
       "0      2.39e+06\n",
       "1       1.3e+06\n",
       "2      1.12e+06\n",
       "3      2.49e+06\n",
       "4      1.22e+06\n",
       "         ...   \n",
       "269      938600\n",
       "270      776200\n",
       "271    1.46e+06\n",
       "272    1.09e+06\n",
       "273      778440\n",
       "Name: Vol., Length: 274, dtype: object"
      ]
     },
     "execution_count": 64,
     "metadata": {},
     "output_type": "execute_result"
    }
   ],
   "source": [
    "df['Vol.']"
   ]
  },
  {
   "cell_type": "code",
   "execution_count": 66,
   "metadata": {},
   "outputs": [],
   "source": [
    "df.to_csv(fpath + \"BID\" + \".csv\", sep=';', index=False)"
   ]
  },
  {
   "cell_type": "code",
   "execution_count": null,
   "metadata": {},
   "outputs": [],
   "source": []
  }
 ],
 "metadata": {
  "kernelspec": {
   "display_name": "Python 3",
   "language": "python",
   "name": "python3"
  },
  "language_info": {
   "codemirror_mode": {
    "name": "ipython",
    "version": 3
   },
   "file_extension": ".py",
   "mimetype": "text/x-python",
   "name": "python",
   "nbconvert_exporter": "python",
   "pygments_lexer": "ipython3",
   "version": "3.7.7"
  },
  "latex_envs": {
   "LaTeX_envs_menu_present": true,
   "autoclose": false,
   "autocomplete": true,
   "bibliofile": "biblio.bib",
   "cite_by": "apalike",
   "current_citInitial": 1,
   "eqLabelWithNumbers": true,
   "eqNumInitial": 1,
   "hotkeys": {
    "equation": "Ctrl-E",
    "itemize": "Ctrl-I"
   },
   "labels_anchors": false,
   "latex_user_defs": false,
   "report_style_numbering": false,
   "user_envs_cfg": false
  }
 },
 "nbformat": 4,
 "nbformat_minor": 4
}
